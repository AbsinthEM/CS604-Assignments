{
 "cells": [
  {
   "cell_type": "markdown",
   "metadata": {},
   "source": [
    "# Assignment 2: Conditional GAN for Bird Image Generation\n",
    "\n",
    "**Objective**: Build a conditional Generative Adversarial Network (cGAN) to generate 64x64 bird images from attribute descriptions.\n",
    "\n",
    "**Dataset**: CUB-200-2011 (5-class subset)\n",
    "- Black_footed_Albatross\n",
    "- Red_faced_Cormorant\n",
    "- Bobolink\n",
    "- Lazuli_Bunting\n",
    "- Yellow_breasted_Chat"
   ]
  },
  {
   "cell_type": "markdown",
   "metadata": {},
   "source": [
    "## 1. Setup and Configuration"
   ]
  },
  {
   "cell_type": "markdown",
   "metadata": {},
   "source": [
    "### 1.1 Import Libraries"
   ]
  },
  {
   "cell_type": "code",
   "execution_count": 2,
   "metadata": {},
   "outputs": [],
   "source": [
    "import os\n",
    "import numpy as np\n",
    "import pandas as pd\n",
    "import matplotlib.pyplot as plt\n",
    "import seaborn as sns\n",
    "from collections import defaultdict\n",
    "from tqdm import tqdm\n",
    "\n",
    "import torch\n",
    "import torch.nn as nn\n",
    "import torch.optim as optim\n",
    "from torch.utils.data import Dataset, DataLoader\n",
    "\n",
    "import torchvision\n",
    "import torchvision.transforms as transforms\n",
    "from torchvision.utils import make_grid, save_image\n",
    "from PIL import Image\n",
    "\n",
    "from sklearn.metrics import classification_report, confusion_matrix, ConfusionMatrixDisplay"
   ]
  },
  {
   "cell_type": "markdown",
   "metadata": {},
   "source": [
    "### 1.2 Reproducibility Configuration"
   ]
  },
  {
   "cell_type": "code",
   "execution_count": 3,
   "metadata": {},
   "outputs": [
    {
     "name": "stdout",
     "output_type": "stream",
     "text": [
      "Using device: cuda\n",
      "GPU: NVIDIA GeForce RTX 5070 Ti Laptop GPU\n",
      "Memory: 11.94 GB\n"
     ]
    }
   ],
   "source": [
    "SEED = 42\n",
    "\n",
    "def set_seed(seed):\n",
    "    np.random.seed(seed)\n",
    "    torch.manual_seed(seed)\n",
    "    torch.cuda.manual_seed_all(seed)\n",
    "    torch.backends.cudnn.deterministic = True\n",
    "    torch.backends.cudnn.benchmark = False\n",
    "\n",
    "set_seed(SEED)\n",
    "\n",
    "device = torch.device('cuda' if torch.cuda.is_available() else 'cpu')\n",
    "print(f'Using device: {device}')\n",
    "if torch.cuda.is_available():\n",
    "    print(f'GPU: {torch.cuda.get_device_name(0)}')\n",
    "    print(f'Memory: {torch.cuda.get_device_properties(0).total_memory / 1024**3:.2f} GB')"
   ]
  },
  {
   "cell_type": "markdown",
   "metadata": {},
   "source": [
    "### 1.3 Hyperparameters and Paths"
   ]
  },
  {
   "cell_type": "code",
   "execution_count": 4,
   "metadata": {},
   "outputs": [],
   "source": [
    "DATA_ROOT = 'CUB_200_2011'\n",
    "MODEL_DIR = 'models'\n",
    "OUTPUT_DIR = 'outputs'\n",
    "os.makedirs(MODEL_DIR, exist_ok=True)\n",
    "os.makedirs(OUTPUT_DIR, exist_ok=True)\n",
    "os.makedirs(os.path.join(OUTPUT_DIR, 'generated_samples'), exist_ok=True)\n",
    "os.makedirs(os.path.join(OUTPUT_DIR, 'evaluation_images'), exist_ok=True)\n",
    "os.makedirs(os.path.join(OUTPUT_DIR, 'training_progress'), exist_ok=True)\n",
    "\n",
    "TARGET_CLASSES = [\n",
    "    'Black_footed_Albatross',\n",
    "    'Red_faced_Cormorant',\n",
    "    'Bobolink',\n",
    "    'Lazuli_Bunting',\n",
    "    'Yellow_breasted_Chat'\n",
    "]\n",
    "\n",
    "IMG_SIZE = 64\n",
    "BATCH_SIZE = 16\n",
    "LATENT_DIM = 100\n",
    "NUM_EPOCHS = 100\n",
    "LR_G = 0.0002\n",
    "LR_D = 0.0002\n",
    "BETA1 = 0.5\n",
    "BETA2 = 0.999\n",
    "LABEL_SMOOTHING = 0.1"
   ]
  },
  {
   "cell_type": "markdown",
   "metadata": {},
   "source": [
    "## 2. Data Exploration and Analysis"
   ]
  },
  {
   "cell_type": "markdown",
   "metadata": {},
   "source": [
    "### 2.1 Load Dataset Metadata"
   ]
  },
  {
   "cell_type": "code",
   "execution_count": 15,
   "metadata": {},
   "outputs": [],
   "source": [
    "images_df = pd.read_csv(\n",
    "    os.path.join(DATA_ROOT, 'images.txt'),\n",
    "    sep=' ',\n",
    "    names=['image_id', 'image_path']\n",
    ")\n",
    "\n",
    "labels_df = pd.read_csv(\n",
    "    os.path.join(DATA_ROOT, 'image_class_labels.txt'),\n",
    "    sep=' ',\n",
    "    names=['image_id', 'class_id']\n",
    ")\n",
    "\n",
    "split_df = pd.read_csv(\n",
    "    os.path.join(DATA_ROOT, 'train_test_split.txt'),\n",
    "    sep=' ',\n",
    "    names=['image_id', 'is_training']\n",
    ")\n",
    "\n",
    "classes_df = pd.read_csv(\n",
    "    os.path.join(DATA_ROOT, 'classes.txt'),\n",
    "    sep=' ',\n",
    "    names=['class_id', 'class_name']\n",
    ")\n",
    "classes_df['class_name'] = classes_df['class_name'].str.split('.', n=1).str[1]\n",
    "\n",
    "attributes_list = pd.read_csv(\n",
    "    os.path.join(DATA_ROOT, 'attributes', 'attributes.txt'),\n",
    "    sep=' ',\n",
    "    names=['attribute_id', 'attribute_name']\n",
    ")\n",
    "attributes_list['attribute_name'] = attributes_list['attribute_name'].str.split('::', n=1).str[1]\n",
    "\n",
    "image_attributes = pd.read_csv(\n",
    "    os.path.join(DATA_ROOT, 'attributes', 'image_attribute_labels.txt'),\n",
    "    sep=r'\\s+',\n",
    "    names=['image_id', 'attribute_id', 'is_present', 'certainty_id', 'time'],\n",
    "    usecols=[0, 1, 2, 3, 4],\n",
    "    on_bad_lines='skip',\n",
    "    engine='python'\n",
    ")"
   ]
  },
  {
   "cell_type": "markdown",
   "metadata": {},
   "source": [
    "### 2.2 Filter Target Classes"
   ]
  },
  {
   "cell_type": "code",
   "execution_count": 16,
   "metadata": {},
   "outputs": [
    {
     "name": "stdout",
     "output_type": "stream",
     "text": [
      "Total images: 289\n",
      "Training images: 150\n",
      "Test images: 139\n"
     ]
    }
   ],
   "source": [
    "target_class_ids = classes_df[classes_df['class_name'].isin(TARGET_CLASSES)]['class_id'].values\n",
    "class_id_to_name = dict(zip(classes_df['class_id'], classes_df['class_name']))\n",
    "class_name_to_id = {name: idx for idx, name in enumerate(TARGET_CLASSES)}\n",
    "class_id_to_label = {cid: class_name_to_id[class_id_to_name[cid]] for cid in target_class_ids}\n",
    "\n",
    "filtered_df = images_df.merge(labels_df, on='image_id').merge(split_df, on='image_id')\n",
    "filtered_df = filtered_df[filtered_df['class_id'].isin(target_class_ids)]\n",
    "filtered_df['label'] = filtered_df['class_id'].map(class_id_to_label)\n",
    "\n",
    "train_df = filtered_df[filtered_df['is_training'] == 1].reset_index(drop=True)\n",
    "test_df = filtered_df[filtered_df['is_training'] == 0].reset_index(drop=True)\n",
    "\n",
    "print(f'Total images: {len(filtered_df)}')\n",
    "print(f'Training images: {len(train_df)}')\n",
    "print(f'Test images: {len(test_df)}')"
   ]
  },
  {
   "cell_type": "markdown",
   "metadata": {},
   "source": [
    "### 2.3 Class Distribution"
   ]
  },
  {
   "cell_type": "code",
   "execution_count": 17,
   "metadata": {},
   "outputs": [
    {
     "data": {
      "image/png": "[encoded data removed]",
      "text/plain": [
       "<Figure size 1400x500 with 2 Axes>"
      ]
     },
     "metadata": {},
     "output_type": "display_data"
    }
   ],
   "source": [
    "train_class_counts = train_df['label'].value_counts().sort_index()\n",
    "test_class_counts = test_df['label'].value_counts().sort_index()\n",
    "\n",
    "fig, axes = plt.subplots(1, 2, figsize=(14, 5))\n",
    "axes[0].bar(range(len(TARGET_CLASSES)), train_class_counts.values)\n",
    "axes[0].set_xticks(range(len(TARGET_CLASSES)))\n",
    "axes[0].set_xticklabels(TARGET_CLASSES, rotation=45, ha='right')\n",
    "axes[0].set_title('Training Set Distribution')\n",
    "axes[0].set_ylabel('Number of Images')\n",
    "\n",
    "axes[1].bar(range(len(TARGET_CLASSES)), test_class_counts.values)\n",
    "axes[1].set_xticks(range(len(TARGET_CLASSES)))\n",
    "axes[1].set_xticklabels(TARGET_CLASSES, rotation=45, ha='right')\n",
    "axes[1].set_title('Test Set Distribution')\n",
    "axes[1].set_ylabel('Number of Images')\n",
    "\n",
    "plt.tight_layout()\n",
    "plt.show()"
   ]
  },
  {
   "cell_type": "markdown",
   "metadata": {},
   "source": [
    "### 2.4 Attribute Statistics"
   ]
  },
  {
   "cell_type": "code",
   "execution_count": 18,
   "metadata": {},
   "outputs": [
    {
     "name": "stdout",
     "output_type": "stream",
     "text": [
      "Total number of attributes: 312\n",
      "Total attribute annotations: 3677856\n",
      "\n",
      "Certainty levels:\n",
      "certainty_id\n",
      "1     394906\n",
      "2     228021\n",
      "3    1021155\n",
      "4    2033774\n",
      "Name: count, dtype: int64\n",
      "\n",
      "Attribute presence:\n",
      "is_present\n",
      "0    3306809\n",
      "1     371047\n",
      "Name: count, dtype: int64\n"
     ]
    }
   ],
   "source": [
    "print(f'Total number of attributes: {len(attributes_list)}')\n",
    "print(f'Total attribute annotations: {len(image_attributes)}')\n",
    "print(f'\\nCertainty levels:')\n",
    "print(image_attributes['certainty_id'].value_counts().sort_index())\n",
    "print(f'\\nAttribute presence:')\n",
    "print(image_attributes['is_present'].value_counts())"
   ]
  },
  {
   "cell_type": "markdown",
   "metadata": {},
   "source": [
    "## 3. Part 1: Attribute Data Processing"
   ]
  },
  {
   "cell_type": "markdown",
   "metadata": {},
   "source": [
    "### 3.1 Build Attribute Vectors"
   ]
  },
  {
   "cell_type": "code",
   "execution_count": 20,
   "metadata": {},
   "outputs": [
    {
     "name": "stdout",
     "output_type": "stream",
     "text": [
      "Built attribute vectors for 150 training images\n",
      "Built attribute vectors for 139 test images\n",
      "Attribute vector dimension: 312\n"
     ]
    }
   ],
   "source": [
    "def build_attribute_vector(image_id, attr_df, num_attributes=312, use_certainty=True):\n",
    "    img_attrs = attr_df[attr_df['image_id'] == image_id]\n",
    "    attr_vector = np.zeros(num_attributes)\n",
    "    \n",
    "    for _, row in img_attrs.iterrows():\n",
    "        attr_idx = int(row['attribute_id']) - 1\n",
    "        if row['is_present'] == 1:\n",
    "            if use_certainty:\n",
    "                attr_vector[attr_idx] = row['certainty_id'] / 4.0\n",
    "            else:\n",
    "                attr_vector[attr_idx] = 1.0\n",
    "    \n",
    "    return attr_vector\n",
    "\n",
    "train_attributes = {}\n",
    "for img_id in train_df['image_id']:\n",
    "    train_attributes[img_id] = build_attribute_vector(img_id, image_attributes, use_certainty=True)\n",
    "\n",
    "test_attributes = {}\n",
    "for img_id in test_df['image_id']:\n",
    "    test_attributes[img_id] = build_attribute_vector(img_id, image_attributes, use_certainty=True)\n",
    "\n",
    "print(f'Built attribute vectors for {len(train_attributes)} training images')\n",
    "print(f'Built attribute vectors for {len(test_attributes)} test images')\n",
    "print(f'Attribute vector dimension: {len(train_attributes[train_df.iloc[0][\"image_id\"]])}')"
   ]
  },
  {
   "cell_type": "markdown",
   "metadata": {},
   "source": [
    "### 3.2 Attribute Vector Analysis"
   ]
  },
  {
   "cell_type": "code",
   "execution_count": 21,
   "metadata": {},
   "outputs": [
    {
     "data": {
      "image/png": "[encoded data removed]",
      "text/plain": [
       "<Figure size 1500x400 with 2 Axes>"
      ]
     },
     "metadata": {},
     "output_type": "display_data"
    },
    {
     "name": "stdout",
     "output_type": "stream",
     "text": [
      "Attribute vector sparsity: 90.40%\n",
      "Average non-zero attributes per image: 29.9\n"
     ]
    }
   ],
   "source": [
    "sample_vectors = np.array([train_attributes[img_id] for img_id in list(train_attributes.keys())[:5]])\n",
    "\n",
    "plt.figure(figsize=(15, 4))\n",
    "plt.imshow(sample_vectors, aspect='auto', cmap='YlOrRd')\n",
    "plt.colorbar(label='Attribute Value')\n",
    "plt.xlabel('Attribute Index')\n",
    "plt.ylabel('Sample Image')\n",
    "plt.title('Sample Attribute Vectors Heatmap')\n",
    "plt.tight_layout()\n",
    "plt.show()\n",
    "\n",
    "all_train_vectors = np.array(list(train_attributes.values()))\n",
    "attr_sparsity = (all_train_vectors == 0).sum() / all_train_vectors.size\n",
    "print(f'Attribute vector sparsity: {attr_sparsity:.2%}')\n",
    "print(f'Average non-zero attributes per image: {(all_train_vectors > 0).sum(axis=1).mean():.1f}')"
   ]
  },
  {
   "cell_type": "markdown",
   "metadata": {},
   "source": [
    "### 3.3 Dataset Class"
   ]
  },
  {
   "cell_type": "code",
   "execution_count": 22,
   "metadata": {},
   "outputs": [],
   "source": [
    "class BirdAttributeDataset(Dataset):\n",
    "    def __init__(self, df, attributes_dict, data_root, transform=None):\n",
    "        self.df = df\n",
    "        self.attributes_dict = attributes_dict\n",
    "        self.data_root = data_root\n",
    "        self.transform = transform\n",
    "    \n",
    "    def __len__(self):\n",
    "        return len(self.df)\n",
    "    \n",
    "    def __getitem__(self, idx):\n",
    "        row = self.df.iloc[idx]\n",
    "        img_path = os.path.join(self.data_root, 'images', row['image_path'])\n",
    "        image = Image.open(img_path).convert('RGB')\n",
    "        \n",
    "        if self.transform:\n",
    "            image = self.transform(image)\n",
    "        \n",
    "        attr_vector = torch.FloatTensor(self.attributes_dict[row['image_id']])\n",
    "        label = row['label']\n",
    "        \n",
    "        return image, attr_vector, label"
   ]
  },
  {
   "cell_type": "markdown",
   "metadata": {},
   "source": [
    "### 3.4 Data Transforms and Loaders"
   ]
  },
  {
   "cell_type": "code",
   "execution_count": 23,
   "metadata": {},
   "outputs": [
    {
     "name": "stdout",
     "output_type": "stream",
     "text": [
      "Training batches: 10\n",
      "Test batches: 9\n"
     ]
    }
   ],
   "source": [
    "transform = transforms.Compose([\n",
    "    transforms.Resize((IMG_SIZE, IMG_SIZE)),\n",
    "    transforms.ToTensor(),\n",
    "    transforms.Normalize(mean=[0.5, 0.5, 0.5], std=[0.5, 0.5, 0.5])\n",
    "])\n",
    "\n",
    "train_dataset = BirdAttributeDataset(train_df, train_attributes, DATA_ROOT, transform=transform)\n",
    "test_dataset = BirdAttributeDataset(test_df, test_attributes, DATA_ROOT, transform=transform)\n",
    "\n",
    "train_loader = DataLoader(train_dataset, batch_size=BATCH_SIZE, shuffle=True, num_workers=2, pin_memory=True)\n",
    "test_loader = DataLoader(test_dataset, batch_size=BATCH_SIZE, shuffle=False, num_workers=2, pin_memory=True)\n",
    "\n",
    "print(f'Training batches: {len(train_loader)}')\n",
    "print(f'Test batches: {len(test_loader)}')"
   ]
  },
  {
   "cell_type": "markdown",
   "metadata": {},
   "source": [
    "### 3.5 Visualize Sample Data"
   ]
  },
  {
   "cell_type": "code",
   "execution_count": null,
   "metadata": {},
   "outputs": [],
   "source": [
    "# sample_images, sample_attrs, sample_labels = next(iter(train_loader))\n",
    "\n",
    "# fig, axes = plt.subplots(2, 4, figsize=(12, 6))\n",
    "# for i in range(8):\n",
    "#     ax = axes[i // 4, i % 4]\n",
    "#     img = sample_images[i].permute(1, 2, 0).numpy()\n",
    "#     img = (img + 1) / 2\n",
    "#     ax.imshow(img)\n",
    "#     ax.set_title(TARGET_CLASSES[sample_labels[i]])\n",
    "#     ax.axis('off')\n",
    "# plt.tight_layout()\n",
    "# plt.show()"
   ]
  },
  {
   "cell_type": "markdown",
   "metadata": {},
   "source": [
    "## 4. Part 2: Conditional GAN Training"
   ]
  },
  {
   "cell_type": "markdown",
   "metadata": {},
   "source": [
    "### 4.1 Generator Architecture"
   ]
  },
  {
   "cell_type": "code",
   "execution_count": null,
   "metadata": {},
   "outputs": [],
   "source": [
    "class Generator(nn.Module):\n",
    "    def __init__(self, latent_dim=100, attr_dim=312, img_channels=3):\n",
    "        super(Generator, self).__init__()\n",
    "        self.latent_dim = latent_dim\n",
    "        self.attr_dim = attr_dim\n",
    "        \n",
    "        self.fc = nn.Sequential(\n",
    "            nn.Linear(latent_dim + attr_dim, 256 * 4 * 4),\n",
    "            nn.BatchNorm1d(256 * 4 * 4),\n",
    "            nn.ReLU(True)\n",
    "        )\n",
    "        \n",
    "        self.conv_blocks = nn.Sequential(\n",
    "            nn.ConvTranspose2d(256, 128, 4, 2, 1, bias=False),\n",
    "            nn.BatchNorm2d(128),\n",
    "            nn.ReLU(True),\n",
    "            \n",
    "            nn.ConvTranspose2d(128, 64, 4, 2, 1, bias=False),\n",
    "            nn.BatchNorm2d(64),\n",
    "            nn.ReLU(True),\n",
    "            \n",
    "            nn.ConvTranspose2d(64, 32, 4, 2, 1, bias=False),\n",
    "            nn.BatchNorm2d(32),\n",
    "            nn.ReLU(True),\n",
    "            \n",
    "            nn.ConvTranspose2d(32, img_channels, 4, 2, 1, bias=False),\n",
    "            nn.Tanh()\n",
    "        )\n",
    "    \n",
    "    def forward(self, noise, attributes):\n",
    "        x = torch.cat([noise, attributes], dim=1)\n",
    "        x = self.fc(x)\n",
    "        x = x.view(x.size(0), 256, 4, 4)\n",
    "        x = self.conv_blocks(x)\n",
    "        return x"
   ]
  },
  {
   "cell_type": "markdown",
   "metadata": {},
   "source": [
    "### 4.2 Discriminator Architecture"
   ]
  },
  {
   "cell_type": "code",
   "execution_count": null,
   "metadata": {},
   "outputs": [],
   "source": [
    "class Discriminator(nn.Module):\n",
    "    def __init__(self, attr_dim=312, img_channels=3, img_size=64):\n",
    "        super(Discriminator, self).__init__()\n",
    "        self.attr_dim = attr_dim\n",
    "        self.img_size = img_size\n",
    "        \n",
    "        self.conv_blocks = nn.Sequential(\n",
    "            nn.Conv2d(img_channels, 32, 4, 2, 1, bias=False),\n",
    "            nn.LeakyReLU(0.2, inplace=True),\n",
    "            \n",
    "            nn.Conv2d(32, 64, 4, 2, 1, bias=False),\n",
    "            nn.BatchNorm2d(64),\n",
    "            nn.LeakyReLU(0.2, inplace=True),\n",
    "            \n",
    "            nn.Conv2d(64, 128, 4, 2, 1, bias=False),\n",
    "            nn.BatchNorm2d(128),\n",
    "            nn.LeakyReLU(0.2, inplace=True),\n",
    "            \n",
    "            nn.Conv2d(128, 256, 4, 2, 1, bias=False),\n",
    "            nn.BatchNorm2d(256),\n",
    "            nn.LeakyReLU(0.2, inplace=True)\n",
    "        )\n",
    "        \n",
    "        self.fc = nn.Sequential(\n",
    "            nn.Linear(256 * 4 * 4 + attr_dim, 512),\n",
    "            nn.LeakyReLU(0.2, inplace=True),\n",
    "            nn.Dropout(0.3),\n",
    "            nn.Linear(512, 1),\n",
    "            nn.Sigmoid()\n",
    "        )\n",
    "    \n",
    "    def forward(self, img, attributes):\n",
    "        x = self.conv_blocks(img)\n",
    "        x = x.view(x.size(0), -1)\n",
    "        x = torch.cat([x, attributes], dim=1)\n",
    "        x = self.fc(x)\n",
    "        return x"
   ]
  },
  {
   "cell_type": "markdown",
   "metadata": {},
   "source": [
    "### 4.3 Initialize Models"
   ]
  },
  {
   "cell_type": "code",
   "execution_count": null,
   "metadata": {},
   "outputs": [],
   "source": [
    "def weights_init(m):\n",
    "    classname = m.__class__.__name__\n",
    "    if classname.find('Conv') != -1:\n",
    "        nn.init.normal_(m.weight.data, 0.0, 0.02)\n",
    "    elif classname.find('BatchNorm') != -1:\n",
    "        nn.init.normal_(m.weight.data, 1.0, 0.02)\n",
    "        nn.init.constant_(m.bias.data, 0)\n",
    "\n",
    "generator = Generator(latent_dim=LATENT_DIM, attr_dim=312).to(device)\n",
    "discriminator = Discriminator(attr_dim=312, img_size=IMG_SIZE).to(device)\n",
    "\n",
    "generator.apply(weights_init)\n",
    "discriminator.apply(weights_init)\n",
    "\n",
    "print('Generator:')\n",
    "print(generator)\n",
    "print(f'\\nGenerator parameters: {sum(p.numel() for p in generator.parameters()):,}')\n",
    "print(f'\\nDiscriminator parameters: {sum(p.numel() for p in discriminator.parameters()):,}')"
   ]
  },
  {
   "cell_type": "markdown",
   "metadata": {},
   "source": [
    "### 4.4 Loss Functions and Optimizers"
   ]
  },
  {
   "cell_type": "code",
   "execution_count": null,
   "metadata": {},
   "outputs": [],
   "source": [
    "criterion = nn.BCELoss()\n",
    "\n",
    "optimizer_G = optim.Adam(generator.parameters(), lr=LR_G, betas=(BETA1, BETA2))\n",
    "optimizer_D = optim.Adam(discriminator.parameters(), lr=LR_D, betas=(BETA1, BETA2))\n",
    "\n",
    "scheduler_G = optim.lr_scheduler.StepLR(optimizer_G, step_size=30, gamma=0.5)\n",
    "scheduler_D = optim.lr_scheduler.StepLR(optimizer_D, step_size=30, gamma=0.5)"
   ]
  },
  {
   "cell_type": "markdown",
   "metadata": {},
   "source": [
    "### 4.5 Training Loop"
   ]
  },
  {
   "cell_type": "code",
   "execution_count": null,
   "metadata": {},
   "outputs": [],
   "source": [
    "def train_gan(generator, discriminator, train_loader, num_epochs, device):\n",
    "    g_losses = []\n",
    "    d_losses = []\n",
    "    \n",
    "    fixed_noise = torch.randn(16, LATENT_DIM, device=device)\n",
    "    sample_batch = next(iter(train_loader))\n",
    "    fixed_attrs = sample_batch[1][:16].to(device)\n",
    "    \n",
    "    for epoch in range(num_epochs):\n",
    "        generator.train()\n",
    "        discriminator.train()\n",
    "        \n",
    "        epoch_g_loss = 0\n",
    "        epoch_d_loss = 0\n",
    "        \n",
    "        pbar = tqdm(train_loader, desc=f'Epoch {epoch+1}/{num_epochs}')\n",
    "        for real_imgs, attributes, _ in pbar:\n",
    "            batch_size = real_imgs.size(0)\n",
    "            real_imgs = real_imgs.to(device)\n",
    "            attributes = attributes.to(device)\n",
    "            \n",
    "            real_labels = torch.ones(batch_size, 1, device=device) * (1 - LABEL_SMOOTHING)\n",
    "            fake_labels = torch.zeros(batch_size, 1, device=device)\n",
    "            \n",
    "            optimizer_D.zero_grad()\n",
    "            \n",
    "            real_output = discriminator(real_imgs, attributes)\n",
    "            d_loss_real = criterion(real_output, real_labels)\n",
    "            \n",
    "            noise = torch.randn(batch_size, LATENT_DIM, device=device)\n",
    "            fake_imgs = generator(noise, attributes)\n",
    "            fake_output = discriminator(fake_imgs.detach(), attributes)\n",
    "            d_loss_fake = criterion(fake_output, fake_labels)\n",
    "            \n",
    "            d_loss = d_loss_real + d_loss_fake\n",
    "            d_loss.backward()\n",
    "            optimizer_D.step()\n",
    "            \n",
    "            optimizer_G.zero_grad()\n",
    "            \n",
    "            noise = torch.randn(batch_size, LATENT_DIM, device=device)\n",
    "            fake_imgs = generator(noise, attributes)\n",
    "            fake_output = discriminator(fake_imgs, attributes)\n",
    "            g_loss = criterion(fake_output, real_labels)\n",
    "            \n",
    "            g_loss.backward()\n",
    "            optimizer_G.step()\n",
    "            \n",
    "            epoch_g_loss += g_loss.item()\n",
    "            epoch_d_loss += d_loss.item()\n",
    "            \n",
    "            pbar.set_postfix({\n",
    "                'D_loss': f'{d_loss.item():.4f}',\n",
    "                'G_loss': f'{g_loss.item():.4f}'\n",
    "            })\n",
    "        \n",
    "        avg_g_loss = epoch_g_loss / len(train_loader)\n",
    "        avg_d_loss = epoch_d_loss / len(train_loader)\n",
    "        g_losses.append(avg_g_loss)\n",
    "        d_losses.append(avg_d_loss)\n",
    "        \n",
    "        scheduler_G.step()\n",
    "        scheduler_D.step()\n",
    "        \n",
    "        if (epoch + 1) % 10 == 0:\n",
    "            generator.eval()\n",
    "            with torch.no_grad():\n",
    "                fake_samples = generator(fixed_noise, fixed_attrs)\n",
    "                save_image(\n",
    "                    fake_samples,\n",
    "                    os.path.join(OUTPUT_DIR, 'training_progress', f'epoch_{epoch+1}.png'),\n",
    "                    nrow=4,\n",
    "                    normalize=True\n",
    "                )\n",
    "            \n",
    "            torch.save({\n",
    "                'epoch': epoch,\n",
    "                'generator_state_dict': generator.state_dict(),\n",
    "                'discriminator_state_dict': discriminator.state_dict(),\n",
    "                'optimizer_G_state_dict': optimizer_G.state_dict(),\n",
    "                'optimizer_D_state_dict': optimizer_D.state_dict(),\n",
    "            }, os.path.join(MODEL_DIR, f'checkpoint_epoch_{epoch+1}.pt'))\n",
    "        \n",
    "        print(f'Epoch [{epoch+1}/{num_epochs}] - D_loss: {avg_d_loss:.4f}, G_loss: {avg_g_loss:.4f}')\n",
    "    \n",
    "    return g_losses, d_losses"
   ]
  },
  {
   "cell_type": "markdown",
   "metadata": {},
   "source": [
    "### 4.6 Train the Model"
   ]
  },
  {
   "cell_type": "code",
   "execution_count": null,
   "metadata": {},
   "outputs": [],
   "source": [
    "g_losses, d_losses = train_gan(generator, discriminator, train_loader, NUM_EPOCHS, device)"
   ]
  },
  {
   "cell_type": "markdown",
   "metadata": {},
   "source": [
    "### 4.7 Save Final Models"
   ]
  },
  {
   "cell_type": "code",
   "execution_count": null,
   "metadata": {},
   "outputs": [],
   "source": [
    "torch.save(generator.state_dict(), os.path.join(MODEL_DIR, 'generator_best.pt'))\n",
    "torch.save(discriminator.state_dict(), os.path.join(MODEL_DIR, 'discriminator_best.pt'))\n",
    "print('Models saved successfully!')"
   ]
  },
  {
   "cell_type": "markdown",
   "metadata": {},
   "source": [
    "### 4.8 Training Loss Curves"
   ]
  },
  {
   "cell_type": "code",
   "execution_count": null,
   "metadata": {},
   "outputs": [],
   "source": [
    "plt.figure(figsize=(10, 5))\n",
    "plt.plot(g_losses, label='Generator Loss', alpha=0.8)\n",
    "plt.plot(d_losses, label='Discriminator Loss', alpha=0.8)\n",
    "plt.xlabel('Epoch')\n",
    "plt.ylabel('Loss')\n",
    "plt.title('GAN Training Losses')\n",
    "plt.legend()\n",
    "plt.grid(True, alpha=0.3)\n",
    "plt.tight_layout()\n",
    "plt.savefig(os.path.join(OUTPUT_DIR, 'loss_curves.png'), dpi=300, bbox_inches='tight')\n",
    "plt.show()"
   ]
  },
  {
   "cell_type": "markdown",
   "metadata": {},
   "source": [
    "## 5. Part 3: Model Evaluation [20 marks]"
   ]
  },
  {
   "cell_type": "markdown",
   "metadata": {},
   "source": [
    "### 5.1 (i) Qualitative Evaluation"
   ]
  },
  {
   "cell_type": "markdown",
   "metadata": {},
   "source": [
    "#### Select 5 Distinct Attribute Combinations"
   ]
  },
  {
   "cell_type": "code",
   "execution_count": null,
   "metadata": {},
   "outputs": [],
   "source": [
    "generator.eval()\n",
    "\n",
    "selected_attrs = []\n",
    "selected_labels = []\n",
    "for class_idx in range(5):\n",
    "    class_df = train_df[train_df['label'] == class_idx]\n",
    "    sample_img_id = class_df.sample(1).iloc[0]['image_id']\n",
    "    selected_attrs.append(train_attributes[sample_img_id])\n",
    "    selected_labels.append(class_idx)\n",
    "\n",
    "selected_attrs = torch.FloatTensor(np.array(selected_attrs)).to(device)\n",
    "\n",
    "with torch.no_grad():\n",
    "    noise = torch.randn(5, LATENT_DIM, device=device)\n",
    "    generated_samples = generator(noise, selected_attrs)\n",
    "\n",
    "fig, axes = plt.subplots(1, 5, figsize=(15, 3))\n",
    "for i in range(5):\n",
    "    img = generated_samples[i].cpu().permute(1, 2, 0).numpy()\n",
    "    img = (img + 1) / 2\n",
    "    img = np.clip(img, 0, 1)\n",
    "    axes[i].imshow(img)\n",
    "    axes[i].set_title(TARGET_CLASSES[selected_labels[i]])\n",
    "    axes[i].axis('off')\n",
    "plt.tight_layout()\n",
    "plt.savefig(os.path.join(OUTPUT_DIR, 'generated_samples', 'qualitative_samples.png'), dpi=300, bbox_inches='tight')\n",
    "plt.show()"
   ]
  },
  {
   "cell_type": "markdown",
   "metadata": {},
   "source": [
    "### 5.2 (ii) Quantitative Evaluation with Assignment 1 Classifier"
   ]
  },
  {
   "cell_type": "markdown",
   "metadata": {},
   "source": [
    "#### Load Assignment 1 CNN Model"
   ]
  },
  {
   "cell_type": "code",
   "execution_count": null,
   "metadata": {},
   "outputs": [],
   "source": [
    "class BirdCNN(nn.Module):\n",
    "    def __init__(self, num_classes=5):\n",
    "        super(BirdCNN, self).__init__()\n",
    "        \n",
    "        self.block1 = nn.Sequential(\n",
    "            nn.Conv2d(3, 64, kernel_size=3, padding=1),\n",
    "            nn.BatchNorm2d(64),\n",
    "            nn.ReLU(inplace=True),\n",
    "            nn.Conv2d(64, 64, kernel_size=3, padding=1),\n",
    "            nn.BatchNorm2d(64),\n",
    "            nn.ReLU(inplace=True),\n",
    "            nn.MaxPool2d(kernel_size=2, stride=2)\n",
    "        )\n",
    "        \n",
    "        self.block2 = nn.Sequential(\n",
    "            nn.Conv2d(64, 128, kernel_size=3, padding=1),\n",
    "            nn.BatchNorm2d(128),\n",
    "            nn.ReLU(inplace=True),\n",
    "            nn.Conv2d(128, 128, kernel_size=3, padding=1),\n",
    "            nn.BatchNorm2d(128),\n",
    "            nn.ReLU(inplace=True),\n",
    "            nn.MaxPool2d(kernel_size=2, stride=2)\n",
    "        )\n",
    "        \n",
    "        self.block3 = nn.Sequential(\n",
    "            nn.Conv2d(128, 256, kernel_size=3, padding=1),\n",
    "            nn.BatchNorm2d(256),\n",
    "            nn.ReLU(inplace=True),\n",
    "            nn.Conv2d(256, 256, kernel_size=3, padding=1),\n",
    "            nn.BatchNorm2d(256),\n",
    "            nn.ReLU(inplace=True),\n",
    "            nn.MaxPool2d(kernel_size=2, stride=2)\n",
    "        )\n",
    "        \n",
    "        self.block4 = nn.Sequential(\n",
    "            nn.Conv2d(256, 512, kernel_size=3, padding=1),\n",
    "            nn.BatchNorm2d(512),\n",
    "            nn.ReLU(inplace=True),\n",
    "            nn.Conv2d(512, 512, kernel_size=3, padding=1),\n",
    "            nn.BatchNorm2d(512),\n",
    "            nn.ReLU(inplace=True),\n",
    "            nn.MaxPool2d(kernel_size=2, stride=2)\n",
    "        )\n",
    "        \n",
    "        self.avgpool = nn.AdaptiveAvgPool2d((7, 7))\n",
    "        \n",
    "        self.classifier = nn.Sequential(\n",
    "            nn.Dropout(0.5),\n",
    "            nn.Linear(512 * 7 * 7, 1024),\n",
    "            nn.ReLU(inplace=True),\n",
    "            nn.Dropout(0.5),\n",
    "            nn.Linear(1024, 512),\n",
    "            nn.ReLU(inplace=True),\n",
    "            nn.Linear(512, num_classes)\n",
    "        )\n",
    "    \n",
    "    def forward(self, x):\n",
    "        x = self.block1(x)\n",
    "        x = self.block2(x)\n",
    "        x = self.block3(x)\n",
    "        x = self.block4(x)\n",
    "        x = self.avgpool(x)\n",
    "        x = torch.flatten(x, 1)\n",
    "        x = self.classifier(x)\n",
    "        return x\n",
    "\n",
    "classifier = BirdCNN(num_classes=5).to(device)\n",
    "classifier.load_state_dict(torch.load(os.path.join(MODEL_DIR, 'best_bird_cnn.pt'), map_location=device))\n",
    "classifier.eval()\n",
    "print('Assignment 1 classifier loaded successfully!')"
   ]
  },
  {
   "cell_type": "markdown",
   "metadata": {},
   "source": [
    "#### Generate 50 Synthetic Images (10 per class)"
   ]
  },
  {
   "cell_type": "code",
   "execution_count": null,
   "metadata": {},
   "outputs": [],
   "source": [
    "generator.eval()\n",
    "\n",
    "synthetic_images = []\n",
    "synthetic_labels = []\n",
    "\n",
    "for class_idx in range(5):\n",
    "    class_df = train_df[train_df['label'] == class_idx]\n",
    "    sampled_imgs = class_df.sample(min(10, len(class_df)))\n",
    "    \n",
    "    class_dir = os.path.join(OUTPUT_DIR, 'evaluation_images', f'class_{class_idx}')\n",
    "    os.makedirs(class_dir, exist_ok=True)\n",
    "    \n",
    "    for i, (_, row) in enumerate(sampled_imgs.iterrows()):\n",
    "        attr_vector = torch.FloatTensor(train_attributes[row['image_id']]).unsqueeze(0).to(device)\n",
    "        \n",
    "        with torch.no_grad():\n",
    "            noise = torch.randn(1, LATENT_DIM, device=device)\n",
    "            fake_img = generator(noise, attr_vector)\n",
    "        \n",
    "        save_image(\n",
    "            fake_img,\n",
    "            os.path.join(class_dir, f'img_{i}.png'),\n",
    "            normalize=True\n",
    "        )\n",
    "        \n",
    "        synthetic_images.append(fake_img)\n",
    "        synthetic_labels.append(class_idx)\n",
    "\n",
    "print(f'Generated {len(synthetic_images)} synthetic images')"
   ]
  },
  {
   "cell_type": "markdown",
   "metadata": {},
   "source": [
    "#### Classify Synthetic Images"
   ]
  },
  {
   "cell_type": "code",
   "execution_count": null,
   "metadata": {},
   "outputs": [],
   "source": [
    "classifier_transform = transforms.Compose([\n",
    "    transforms.Resize((224, 224)),\n",
    "    transforms.Normalize(mean=[0.5, 0.5, 0.5], std=[0.5, 0.5, 0.5])\n",
    "])\n",
    "\n",
    "predictions = []\n",
    "classifier.eval()\n",
    "\n",
    "with torch.no_grad():\n",
    "    for img in synthetic_images:\n",
    "        img_224 = transforms.functional.resize(img, (224, 224))\n",
    "        output = classifier(img_224)\n",
    "        pred = output.argmax(dim=1).item()\n",
    "        predictions.append(pred)\n",
    "\n",
    "predictions = np.array(predictions)\n",
    "true_labels = np.array(synthetic_labels)\n",
    "\n",
    "accuracy = (predictions == true_labels).mean()\n",
    "print(f'Classification Accuracy on Generated Images: {accuracy:.4f}')"
   ]
  },
  {
   "cell_type": "markdown",
   "metadata": {},
   "source": [
    "#### Confusion Matrix"
   ]
  },
  {
   "cell_type": "code",
   "execution_count": null,
   "metadata": {},
   "outputs": [],
   "source": [
    "cm = confusion_matrix(true_labels, predictions)\n",
    "\n",
    "plt.figure(figsize=(10, 8))\n",
    "disp = ConfusionMatrixDisplay(confusion_matrix=cm, display_labels=TARGET_CLASSES)\n",
    "disp.plot(cmap='Blues', values_format='d')\n",
    "plt.title('Confusion Matrix: Generated Images Classification')\n",
    "plt.xticks(rotation=45, ha='right')\n",
    "plt.tight_layout()\n",
    "plt.savefig(os.path.join(OUTPUT_DIR, 'confusion_matrix.png'), dpi=300, bbox_inches='tight')\n",
    "plt.show()"
   ]
  },
  {
   "cell_type": "markdown",
   "metadata": {},
   "source": [
    "#### Classification Report"
   ]
  },
  {
   "cell_type": "code",
   "execution_count": null,
   "metadata": {},
   "outputs": [],
   "source": [
    "report = classification_report(true_labels, predictions, target_names=TARGET_CLASSES, output_dict=True)\n",
    "report_df = pd.DataFrame(report).transpose()\n",
    "print(report_df)"
   ]
  },
  {
   "cell_type": "markdown",
   "metadata": {},
   "source": [
    "### 5.3 Discussion Section"
   ]
  },
  {
   "cell_type": "markdown",
   "metadata": {},
   "source": []
  },
  {
   "cell_type": "markdown",
   "metadata": {},
   "source": [
    "## 6. Model Deployment"
   ]
  },
  {
   "cell_type": "markdown",
   "metadata": {},
   "source": [
    "### 6.1 Standalone Generation Function"
   ]
  },
  {
   "cell_type": "code",
   "execution_count": null,
   "metadata": {},
   "outputs": [],
   "source": [
    "def test_single(attribute_vector, model_path='models/generator_best.pt', latent_dim=100, seed=42):\n",
    "    \n",
    "    import torch\n",
    "    import torch.nn as nn\n",
    "    import numpy as np\n",
    "    \n",
    "    class Generator(nn.Module):\n",
    "        def __init__(self, latent_dim=100, attr_dim=312, img_channels=3):\n",
    "            super(Generator, self).__init__()\n",
    "            self.latent_dim = latent_dim\n",
    "            self.attr_dim = attr_dim\n",
    "            \n",
    "            self.fc = nn.Sequential(\n",
    "                nn.Linear(latent_dim + attr_dim, 256 * 4 * 4),\n",
    "                nn.BatchNorm1d(256 * 4 * 4),\n",
    "                nn.ReLU(True)\n",
    "            )\n",
    "            \n",
    "            self.conv_blocks = nn.Sequential(\n",
    "                nn.ConvTranspose2d(256, 128, 4, 2, 1, bias=False),\n",
    "                nn.BatchNorm2d(128),\n",
    "                nn.ReLU(True),\n",
    "                \n",
    "                nn.ConvTranspose2d(128, 64, 4, 2, 1, bias=False),\n",
    "                nn.BatchNorm2d(64),\n",
    "                nn.ReLU(True),\n",
    "                \n",
    "                nn.ConvTranspose2d(64, 32, 4, 2, 1, bias=False),\n",
    "                nn.BatchNorm2d(32),\n",
    "                nn.ReLU(True),\n",
    "                \n",
    "                nn.ConvTranspose2d(32, img_channels, 4, 2, 1, bias=False),\n",
    "                nn.Tanh()\n",
    "            )\n",
    "        \n",
    "        def forward(self, noise, attributes):\n",
    "            x = torch.cat([noise, attributes], dim=1)\n",
    "            x = self.fc(x)\n",
    "            x = x.view(x.size(0), 256, 4, 4)\n",
    "            x = self.conv_blocks(x)\n",
    "            return x\n",
    "    \n",
    "    device = torch.device('cuda' if torch.cuda.is_available() else 'cpu')\n",
    "    \n",
    "    if isinstance(attribute_vector, np.ndarray):\n",
    "        attribute_vector = torch.FloatTensor(attribute_vector)\n",
    "    elif not isinstance(attribute_vector, torch.Tensor):\n",
    "        attribute_vector = torch.FloatTensor(attribute_vector)\n",
    "    \n",
    "    if attribute_vector.dim() == 1:\n",
    "        attribute_vector = attribute_vector.unsqueeze(0)\n",
    "    \n",
    "    attribute_vector = attribute_vector.to(device)\n",
    "    \n",
    "    generator = Generator(latent_dim=latent_dim, attr_dim=attribute_vector.size(1)).to(device)\n",
    "    generator.load_state_dict(torch.load(model_path, map_location=device))\n",
    "    generator.eval()\n",
    "    \n",
    "    torch.manual_seed(seed)\n",
    "    if torch.cuda.is_available():\n",
    "        torch.cuda.manual_seed(seed)\n",
    "    \n",
    "    with torch.no_grad():\n",
    "        noise = torch.randn(1, latent_dim, device=device)\n",
    "        generated_image = generator(noise, attribute_vector)\n",
    "    \n",
    "    generated_image = generated_image.squeeze(0)\n",
    "    generated_image = (generated_image + 1) / 2\n",
    "    generated_image = torch.clamp(generated_image, 0, 1)\n",
    "    \n",
    "    return generated_image"
   ]
  },
  {
   "cell_type": "markdown",
   "metadata": {},
   "source": [
    "### 6.2 Test the Function"
   ]
  },
  {
   "cell_type": "code",
   "execution_count": null,
   "metadata": {},
   "outputs": [],
   "source": [
    "test_img_id = train_df.sample(1).iloc[0]['image_id']\n",
    "test_attr = train_attributes[test_img_id]\n",
    "\n",
    "generated = test_single(test_attr)\n",
    "\n",
    "plt.figure(figsize=(4, 4))\n",
    "plt.imshow(generated.cpu().permute(1, 2, 0).numpy())\n",
    "plt.title('Generated Image from test_single')\n",
    "plt.axis('off')\n",
    "plt.tight_layout()\n",
    "plt.show()\n",
    "\n",
    "print(f'Output shape: {generated.shape}')\n",
    "print(f'Output range: [{generated.min():.3f}, {generated.max():.3f}]')"
   ]
  },
  {
   "cell_type": "markdown",
   "metadata": {},
   "source": [
    "## 7. Summary and Deliverables"
   ]
  },
  {
   "cell_type": "markdown",
   "metadata": {},
   "source": [
    "### 7.1 Part 1 Deliverables"
   ]
  },
  {
   "cell_type": "markdown",
   "metadata": {},
   "source": []
  },
  {
   "cell_type": "markdown",
   "metadata": {},
   "source": [
    "### 7.2 Part 2 Deliverables"
   ]
  },
  {
   "cell_type": "markdown",
   "metadata": {},
   "source": []
  },
  {
   "cell_type": "markdown",
   "metadata": {},
   "source": [
    "### 7.3 Part 3 Deliverables"
   ]
  },
  {
   "cell_type": "markdown",
   "metadata": {},
   "source": []
  }
 ],
 "metadata": {
  "kernelspec": {
   "display_name": "python3_12",
   "language": "python",
   "name": "python3"
  },
  "language_info": {
   "codemirror_mode": {
    "name": "ipython",
    "version": 3
   },
   "file_extension": ".py",
   "mimetype": "text/x-python",
   "name": "python",
   "nbconvert_exporter": "python",
   "pygments_lexer": "ipython3",
   "version": "3.12.11"
  }
 },
 "nbformat": 4,
 "nbformat_minor": 4
}
